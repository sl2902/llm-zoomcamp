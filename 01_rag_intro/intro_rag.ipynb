{
 "cells": [
  {
   "cell_type": "code",
   "execution_count": 155,
   "id": "50871588-b154-470c-8524-b7e72539507a",
   "metadata": {},
   "outputs": [
    {
     "data": {
      "text/plain": [
       "True"
      ]
     },
     "execution_count": 155,
     "metadata": {},
     "output_type": "execute_result"
    }
   ],
   "source": [
    "import requests\n",
    "import elasticsearch\n",
    "from elasticsearch import Elasticsearch\n",
    "import openai\n",
    "from elasticsearch.exceptions import BadRequestError\n",
    "from openai import OpenAI\n",
    "import tiktoken\n",
    "from tqdm.auto import tqdm\n",
    "import os\n",
    "from dotenv import load_dotenv\n",
    "load_dotenv()"
   ]
  },
  {
   "cell_type": "markdown",
   "id": "1ef39440-c715-4cfe-b0d3-ad7be31e296e",
   "metadata": {},
   "source": [
    "### Read courses document and store them in a list"
   ]
  },
  {
   "cell_type": "code",
   "execution_count": 2,
   "id": "9b34eb94-fffd-4453-9f58-bb3699221431",
   "metadata": {},
   "outputs": [],
   "source": [
    "docs_url = 'https://github.com/DataTalksClub/llm-zoomcamp/blob/main/01-intro/documents.json?raw=1'"
   ]
  },
  {
   "cell_type": "code",
   "execution_count": 3,
   "id": "c33212f2-5709-4688-bfff-91aac94ea3a7",
   "metadata": {},
   "outputs": [],
   "source": [
    "response = requests.get(docs_url)\n",
    "response.raise_for_status()"
   ]
  },
  {
   "cell_type": "code",
   "execution_count": 4,
   "id": "94730eda-a1a5-4a07-966b-5131f0c26c83",
   "metadata": {},
   "outputs": [],
   "source": [
    "doc_raw = response.json()"
   ]
  },
  {
   "cell_type": "code",
   "execution_count": 5,
   "id": "e4e60d59-f632-4076-b9db-89bc3ef4e0e8",
   "metadata": {},
   "outputs": [
    {
     "data": {
      "text/plain": [
       "3"
      ]
     },
     "execution_count": 5,
     "metadata": {},
     "output_type": "execute_result"
    }
   ],
   "source": [
    "# number of courses\n",
    "len(doc_raw)"
   ]
  },
  {
   "cell_type": "code",
   "execution_count": 6,
   "id": "163d6170-9fff-4b84-9150-93f80da23640",
   "metadata": {},
   "outputs": [
    {
     "data": {
      "text/plain": [
       "dict_keys(['course', 'documents'])"
      ]
     },
     "execution_count": 6,
     "metadata": {},
     "output_type": "execute_result"
    }
   ],
   "source": [
    "doc_raw[0].keys()"
   ]
  },
  {
   "cell_type": "code",
   "execution_count": 7,
   "id": "7a968e9a-72d0-4ebd-acef-a880f69a52de",
   "metadata": {},
   "outputs": [
    {
     "name": "stdout",
     "output_type": "stream",
     "text": [
      "data-engineering-zoomcamp\n",
      "machine-learning-zoomcamp\n",
      "mlops-zoomcamp\n"
     ]
    }
   ],
   "source": [
    "for course in doc_raw:\n",
    "    print(course['course'])"
   ]
  },
  {
   "cell_type": "code",
   "execution_count": 55,
   "id": "1447af7e-8963-4d3b-9dc3-2f42c29bdca5",
   "metadata": {},
   "outputs": [],
   "source": [
    "documents = []\n",
    "for course in doc_raw:\n",
    "    course_name = course['course']\n",
    "    for raw in course['documents']:\n",
    "        raw['course'] = course_name\n",
    "        documents.append(raw)"
   ]
  },
  {
   "cell_type": "code",
   "execution_count": 56,
   "id": "5827d55c-5a3c-4c1e-9b15-2689067e39c3",
   "metadata": {},
   "outputs": [
    {
     "data": {
      "text/plain": [
       "{'text': \"The purpose of this document is to capture frequently asked technical questions\\nThe exact day and hour of the course will be 15th Jan 2024 at 17h00. The course will start with the first  “Office Hours'' live.1\\nSubscribe to course public Google Calendar (it works from Desktop only).\\nRegister before the course starts using this link.\\nJoin the course Telegram channel with announcements.\\nDon’t forget to register in DataTalks.Club's Slack and join the channel.\",\n",
       " 'section': 'General course-related questions',\n",
       " 'question': 'Course - When will the course start?',\n",
       " 'course': 'data-engineering-zoomcamp'}"
      ]
     },
     "execution_count": 56,
     "metadata": {},
     "output_type": "execute_result"
    }
   ],
   "source": [
    "documents[0]"
   ]
  },
  {
   "cell_type": "code",
   "execution_count": 57,
   "id": "8ef20b51-6634-4246-9172-969d5f5834f0",
   "metadata": {},
   "outputs": [
    {
     "data": {
      "text/plain": [
       "948"
      ]
     },
     "execution_count": 57,
     "metadata": {},
     "output_type": "execute_result"
    }
   ],
   "source": [
    "len(documents)"
   ]
  },
  {
   "cell_type": "code",
   "execution_count": 58,
   "id": "34fa73db-6ad6-448d-a204-a59bbbec13c4",
   "metadata": {},
   "outputs": [
    {
     "data": {
      "text/plain": [
       "{'text': \"Problem: I tried to run starter notebook on pipenv environment but had issues with no output on prints. \\nI used scikit-learn==1.2.2 and python==3.10\\nTornado version was 6.3.2\\n\\nSolution: The error you're encountering seems to be a bug related to Tornado, which is a Python web server and networking library. It's used by Jupyter under the hood to handle networking tasks.\\nDowngrading to tornado==6.1 fixed the issue\\nhttps://stackoverflow.com/questions/54971836/no-output-jupyter-notebook\",\n",
       " 'section': 'Module 4: Deployment',\n",
       " 'question': 'Pipenv with Jupyter no output',\n",
       " 'course': 'mlops-zoomcamp'}"
      ]
     },
     "execution_count": 58,
     "metadata": {},
     "output_type": "execute_result"
    }
   ],
   "source": [
    "documents[900]"
   ]
  },
  {
   "cell_type": "markdown",
   "id": "ef6b470f-0b4f-4f69-8422-60e4fc5ee4ad",
   "metadata": {},
   "source": [
    "### Index document in ElasticSearch"
   ]
  },
  {
   "cell_type": "code",
   "execution_count": 12,
   "id": "7a97366c-c118-42b3-9876-c31e3f7190c4",
   "metadata": {},
   "outputs": [],
   "source": [
    "host = 'http://localhost:9200'\n",
    "es = Elasticsearch(host)"
   ]
  },
  {
   "cell_type": "code",
   "execution_count": 13,
   "id": "9c7c8ca6-ab04-475d-aca6-75ee01878334",
   "metadata": {},
   "outputs": [],
   "source": [
    "index_settings = {\n",
    "    \"settings\": {\n",
    "        \"number_of_shards\": 1,\n",
    "        \"number_of_replicas\": 0\n",
    "    },\n",
    "    \"mappings\": {\n",
    "        \"properties\": {\n",
    "          \"course\": {\n",
    "            \"type\": \"keyword\"\n",
    "          },\n",
    "          \"question\": {\n",
    "            \"type\": \"text\"\n",
    "          },\n",
    "          \"text\": {\n",
    "            \"type\": \"text\"\n",
    "          },\n",
    "          \"section\": {\n",
    "            \"type\": \"text\"\n",
    "      }\n",
    "    }\n",
    "  }\n",
    "}\n",
    "index_name = \"course-questions\""
   ]
  },
  {
   "cell_type": "code",
   "execution_count": 90,
   "id": "2d608357-b55f-44ca-b780-f104b4ef29a1",
   "metadata": {},
   "outputs": [],
   "source": [
    "try:\n",
    "    es.indices.create(index=index_name, body=index_settings)\n",
    "except BadRequestError as err:\n",
    "    pass"
   ]
  },
  {
   "cell_type": "code",
   "execution_count": 91,
   "id": "6e878593-f238-4b8b-8d72-7d97f9c9424d",
   "metadata": {},
   "outputs": [
    {
     "data": {
      "application/vnd.jupyter.widget-view+json": {
       "model_id": "797339adc06b4566abe2a6d81c4e829e",
       "version_major": 2,
       "version_minor": 0
      },
      "text/plain": [
       "  0%|          | 0/948 [00:00<?, ?it/s]"
      ]
     },
     "metadata": {},
     "output_type": "display_data"
    }
   ],
   "source": [
    "for doc in tqdm(documents):\n",
    "    es.index(index=index_name, document=doc)"
   ]
  },
  {
   "cell_type": "code",
   "execution_count": null,
   "id": "8796c588-ed13-43cc-ad5d-22fe3db9698e",
   "metadata": {},
   "outputs": [],
   "source": [
    "response = es.count(index=index_name)\n",
    "print(f\"Total documents: {response['count']}\")"
   ]
  },
  {
   "cell_type": "code",
   "execution_count": 95,
   "id": "3723a106-9ee4-4f68-be23-88a278fbe687",
   "metadata": {},
   "outputs": [],
   "source": [
    "# TO DELETE AN ELASTIC INDEX\n",
    "# es.indices.delete(index=index_name)"
   ]
  },
  {
   "cell_type": "code",
   "execution_count": 19,
   "id": "6ed277d2-ddb5-4f95-8242-6f7ea89c1d90",
   "metadata": {},
   "outputs": [],
   "source": [
    "client = OpenAI(api_key=os.getenv('OPENAI_API_KEY'))"
   ]
  },
  {
   "cell_type": "code",
   "execution_count": 150,
   "id": "26c5e828-93bc-494c-945f-9dd25bd1025d",
   "metadata": {},
   "outputs": [],
   "source": [
    "def elastic_search(query):\n",
    "    search_query = {\n",
    "        \"size\": 3,\n",
    "        \"query\": {\n",
    "            \"bool\": {\n",
    "                \"must\": {\n",
    "                    \"multi_match\": {\n",
    "                        \"query\": query,\n",
    "                        \"fields\": [\"question^4\", \"text\"],\n",
    "                        \"type\": \"best_fields\"\n",
    "                    }\n",
    "                },\n",
    "                \"filter\": {\n",
    "                    \"term\": {\n",
    "                        \"course\": \"machine-learning-zoomcamp\",\n",
    "                    }\n",
    "                }\n",
    "            }\n",
    "        }\n",
    "    }\n",
    "\n",
    "    response = es.search(index=index_name, body=search_query)\n",
    "    \n",
    "    result_docs = []\n",
    "    \n",
    "    for hit in response['hits']['hits']:\n",
    "        result_docs.append({\n",
    "            'document': hit['_source'],\n",
    "            'score': hit['_score']\n",
    "        })\n",
    "    \n",
    "    return result_docs"
   ]
  },
  {
   "cell_type": "code",
   "execution_count": 116,
   "id": "75e12b65-7255-4b24-a818-d160c1a4fd36",
   "metadata": {},
   "outputs": [
    {
     "name": "stdout",
     "output_type": "stream",
     "text": [
      "Result 1:\n",
      "Score: 44.50556\n",
      "Question: How do I debug a docker container?\n",
      "---\n",
      "Result 2:\n",
      "Score: 35.433445\n",
      "Question: Kubernetes-dashboard\n",
      "---\n",
      "Result 3:\n",
      "Score: 33.70974\n",
      "Question: How do I copy files from a different folder into docker container’s working directory?\n",
      "---\n",
      "Result 4:\n",
      "Score: 33.2635\n",
      "Question: How to run a script while a web-server is working?\n",
      "---\n",
      "Result 5:\n",
      "Score: 32.589073\n",
      "Question: How can I annotate a graph?\n",
      "---\n"
     ]
    }
   ],
   "source": [
    "query = \"How do execute a command on a Kubernetes pod?\"\n",
    "results = elastic_search(query)\n",
    "for i, result in enumerate(results):\n",
    "    print(f\"Result {i+1}:\")\n",
    "    print(f\"Score: {result['score']}\")\n",
    "    print(f\"Question: {result['document']['question']}\")\n",
    "    print(\"---\")"
   ]
  },
  {
   "cell_type": "code",
   "execution_count": 151,
   "id": "1a0f42ab-1c5a-466a-b25a-7f40f4ffc857",
   "metadata": {},
   "outputs": [
    {
     "name": "stdout",
     "output_type": "stream",
     "text": [
      "Result 1:\n",
      "Score: 73.38676\n",
      "Question: How do I debug a docker container?\n",
      "---\n",
      "Result 2:\n",
      "Score: 66.688705\n",
      "Question: How do I copy files from my local machine to docker container?\n",
      "---\n",
      "Result 3:\n",
      "Score: 59.812744\n",
      "Question: How do I copy files from a different folder into docker container’s working directory?\n",
      "---\n"
     ]
    }
   ],
   "source": [
    "query = \"How do copy a file to a Docker container?\"\n",
    "results = elastic_search(query)\n",
    "for i, result in enumerate(results):\n",
    "    print(f\"Result {i+1}:\")\n",
    "    print(f\"Score: {result['score']}\")\n",
    "    print(f\"Question: {result['document']['question']}\")\n",
    "    print(\"---\")"
   ]
  },
  {
   "cell_type": "code",
   "execution_count": 145,
   "id": "14cda8b0-efc0-42a3-8c3f-47089afb5578",
   "metadata": {},
   "outputs": [],
   "source": [
    "context_template = \"\"\"\n",
    "Q: {question}\n",
    "A: {text}\n",
    "\"\"\".strip()"
   ]
  },
  {
   "cell_type": "code",
   "execution_count": 152,
   "id": "c89031f7-ed4d-43f6-a15c-62d1077cf68d",
   "metadata": {},
   "outputs": [],
   "source": [
    "def build_prompt(query, search_results):\n",
    "    prompt_template = \"\"\"\n",
    "    You're a course teaching assistant. Answer the QUESTION based on the CONTEXT from the FAQ database.\n",
    "Use only the facts from the CONTEXT when answering the QUESTION.\n",
    "\n",
    "QUESTION: {question}\n",
    "\n",
    "CONTEXT:\n",
    "{context}\n",
    "\"\"\".strip()\n",
    "\n",
    "    context = \"\\n\\n\".join(context_template.format(**result['document']) for result in results)\n",
    "    \n",
    "    prompt = prompt_template.format(question=query, context=context).strip()\n",
    "    return prompt"
   ]
  },
  {
   "cell_type": "code",
   "execution_count": 153,
   "id": "28e0477d-e270-4493-884f-202f8e953a92",
   "metadata": {},
   "outputs": [
    {
     "name": "stdout",
     "output_type": "stream",
     "text": [
      "1446\n"
     ]
    }
   ],
   "source": [
    "print(len(build_prompt(query, results)))"
   ]
  },
  {
   "cell_type": "code",
   "execution_count": 156,
   "id": "978ff429-e130-4344-83d4-6acd5ab3af3b",
   "metadata": {},
   "outputs": [],
   "source": [
    "encoding = tiktoken.encoding_for_model(\"gpt-4o\")"
   ]
  },
  {
   "cell_type": "code",
   "execution_count": 160,
   "id": "e7cee68e-3da0-4132-8b4d-04e30224cb39",
   "metadata": {},
   "outputs": [
    {
     "data": {
      "text/plain": [
       "320"
      ]
     },
     "execution_count": 160,
     "metadata": {},
     "output_type": "execute_result"
    }
   ],
   "source": [
    "len(encoding.encode(build_prompt(query, results)))"
   ]
  },
  {
   "cell_type": "code",
   "execution_count": 85,
   "id": "b7afc34d-4358-4e0d-8326-5e5faedec01d",
   "metadata": {},
   "outputs": [],
   "source": [
    "def rag(query):\n",
    "    search_results = elastic_search(query)\n",
    "    print(search_results)\n",
    "    prompt = build_prompt(query, search_results)\n",
    "    print(prompt)\n",
    "    answer = llm(prompt)\n",
    "    return answer"
   ]
  },
  {
   "cell_type": "code",
   "execution_count": 86,
   "id": "ce2330fc-a1df-419f-a3b6-3fe0602761c6",
   "metadata": {},
   "outputs": [],
   "source": [
    "def llm(prompt):\n",
    "    response = client.chat.completions.create(\n",
    "        model='gpt-4o',\n",
    "        messages=[{\"role\": \"user\", \"content\": prompt}]\n",
    "    )\n",
    "    \n",
    "    return response.choices[0].message.content"
   ]
  },
  {
   "cell_type": "code",
   "execution_count": 139,
   "id": "0a0c4bf5-a8c7-480b-8e99-85eea08f6c7e",
   "metadata": {},
   "outputs": [],
   "source": [
    "# search_query = {\n",
    "#     \"size\": 500,\n",
    "#     \"query\": {\n",
    "#         \"bool\": {\n",
    "#             \"filter\": {\n",
    "#                 \"term\": {\n",
    "#                     \"course\": \"machine-learning-zoomcamp\"\n",
    "#                 }\n",
    "#             }\n",
    "#         }\n",
    "#     }\n",
    "# }\n",
    "# response = es.search(index=index_name, body=search_query)\n",
    "# for hit in response['hits']['hits']:\n",
    "#     if 'kubectl' in hit['_source']['text'].lower() or 'kubectl' in hit['_source']['section'].lower():\n",
    "#         print(f\"Question: {hit['_source']['question']}\")\n",
    "#         print(f\"Section: {hit['_source']['section']}\")\n",
    "#         print(\"---\")"
   ]
  },
  {
   "cell_type": "code",
   "execution_count": null,
   "id": "e273536d-4def-4799-997a-453c3440384b",
   "metadata": {},
   "outputs": [],
   "source": []
  }
 ],
 "metadata": {
  "kernelspec": {
   "display_name": "Python 3 (ipykernel)",
   "language": "python",
   "name": "python3"
  },
  "language_info": {
   "codemirror_mode": {
    "name": "ipython",
    "version": 3
   },
   "file_extension": ".py",
   "mimetype": "text/x-python",
   "name": "python",
   "nbconvert_exporter": "python",
   "pygments_lexer": "ipython3",
   "version": "3.11.8"
  }
 },
 "nbformat": 4,
 "nbformat_minor": 5
}
